{
 "cells": [
  {
   "cell_type": "markdown",
   "metadata": {},
   "source": [
    "# Mine"
   ]
  },
  {
   "cell_type": "code",
   "execution_count": 7,
   "metadata": {},
   "outputs": [
    {
     "name": "stdout",
     "output_type": "stream",
     "text": [
      "tests pass\n",
      "2.05 µs ± 64.5 ns per loop (mean ± std. dev. of 7 runs, 100000 loops each)\n"
     ]
    }
   ],
   "source": [
    "def kind(n, ranks):\n",
    "    \"\"\"Return the first rank that this hand has exactly n of. Return None if there is no n-of-a-kind in the hand.\"\"\"\n",
    "    \n",
    "    d = {}\n",
    "    \n",
    "    for i in ranks:\n",
    "        \n",
    "        if i not in d:\n",
    "            \n",
    "            d[i] = 1\n",
    "        \n",
    "        elif i in d:\n",
    "            \n",
    "            d[i] = d[i] + 1\n",
    "    \n",
    "    a, b = [], []   \n",
    "        \n",
    "    for i,j in d.items():\n",
    "        \n",
    "        a.append(i)\n",
    "        b.append(j)\n",
    "    \n",
    "    resMax = a[b.index(max(b))]\n",
    "    resMin = a[b.index(min(b))]\n",
    "        \n",
    "    \n",
    "    if n == max(b):\n",
    "        \n",
    "        return resMax\n",
    "    \n",
    "    elif n == min(b):\n",
    "        \n",
    "        return resMin\n",
    "        \n",
    "    else:    \n",
    "        \n",
    "        return None\n",
    "    \n",
    "def test():\n",
    "    \"Test cases for the functions in poker program.\"\n",
    "    sf = \"6C 7C 8C 9C TC\".split() # Straight Flush\n",
    "    fk = \"9D 9H 9S 9C 7D\".split() # Four of a Kind\n",
    "    fh = \"TD TC TH 7C 7D\".split() # Full House\n",
    "    tp = \"5S 5D 9H 9C 6S\".split() # Two pairs\n",
    "    fkranks = card_ranks(fk)\n",
    "    tpranks = card_ranks(tp)\n",
    "    assert kind(4, fkranks) == 9\n",
    "    assert kind(3, fkranks) == None\n",
    "    assert kind(2, fkranks) == None\n",
    "    assert kind(1, fkranks) == 7\n",
    "    return 'tests pass'\n",
    "    \n",
    "def card_ranks(hand):\n",
    "    \"Return a list of the ranks, sorted with higher first.\"\n",
    "    \n",
    "    ranks = ['--23456789TJQKA'.index(r) for r, s in hand]\n",
    "    \n",
    "    ranks.sort(reverse = True)\n",
    "    \n",
    "    return ranks\n",
    "\n",
    "print (test())\n",
    "\n",
    "%timeit kind(1, [9,9,9,9,7])"
   ]
  },
  {
   "cell_type": "markdown",
   "metadata": {},
   "source": [
    "# Instructor\n",
    "# very clever"
   ]
  },
  {
   "cell_type": "code",
   "execution_count": 1,
   "metadata": {},
   "outputs": [
    {
     "name": "stdout",
     "output_type": "stream",
     "text": [
      "tests pass\n",
      "898 ns ± 284 ns per loop (mean ± std. dev. of 7 runs, 1000000 loops each)\n"
     ]
    }
   ],
   "source": [
    "def card_ranks(hand):\n",
    "    \"Return a list of the ranks, sorted with higher first.\"\n",
    "    ranks = ['--23456789TJQKA'.index(r) for r, s in hand]\n",
    "    ranks.sort(reverse = True)\n",
    "    return ranks\n",
    "\n",
    "def kind(n, ranks):\n",
    "    \"\"\"Return the first rank that this hand has exactly n of. Return None if there is no n-of-a-kind in the hand.\"\"\"\n",
    "    \n",
    "    for i in ranks:\n",
    "        \n",
    "        if ranks.count(i) == n:\n",
    "            \n",
    "            return i           \n",
    "    \n",
    "    return None\n",
    "    \n",
    "def test():\n",
    "    \"Test cases for the functions in poker program.\"\n",
    "    sf = \"6C 7C 8C 9C TC\".split() # Straight Flush\n",
    "    fk = \"9D 9H 9S 9C 7D\".split() # Four of a Kind\n",
    "    fh = \"TD TC TH 7C 7D\".split() # Full House\n",
    "    tp = \"5S 5D 9H 9C 6S\".split() # Two pairs\n",
    "    fkranks = card_ranks(fk)\n",
    "    tpranks = card_ranks(tp)\n",
    "    assert kind(4, fkranks) == 9\n",
    "    assert kind(3, fkranks) == None\n",
    "    assert kind(2, fkranks) == None\n",
    "    assert kind(1, fkranks) == 7\n",
    "    return 'tests pass'\n",
    "    \n",
    "print (test())\n",
    "\n",
    "%timeit kind(1, [9,9,9,9,7])"
   ]
  }
 ],
 "metadata": {
  "kernelspec": {
   "display_name": "Python 3",
   "language": "python",
   "name": "python3"
  },
  "language_info": {
   "codemirror_mode": {
    "name": "ipython",
    "version": 3
   },
   "file_extension": ".py",
   "mimetype": "text/x-python",
   "name": "python",
   "nbconvert_exporter": "python",
   "pygments_lexer": "ipython3",
   "version": "3.7.3"
  }
 },
 "nbformat": 4,
 "nbformat_minor": 2
}
