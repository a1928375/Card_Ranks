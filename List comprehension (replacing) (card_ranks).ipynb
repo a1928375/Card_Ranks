{
 "cells": [
  {
   "cell_type": "markdown",
   "metadata": {},
   "source": [
    "# Mine"
   ]
  },
  {
   "cell_type": "code",
   "execution_count": 1,
   "metadata": {},
   "outputs": [
    {
     "name": "stdout",
     "output_type": "stream",
     "text": [
      "[14, 13, 4, 3]\n",
      "[12, 9, 9, 9, 9]\n"
     ]
    }
   ],
   "source": [
    "def card_ranks(cards):\n",
    "    \"Return a list of the ranks, sorted with higher first.\"\n",
    "    ranks = [r for r,s in cards]\n",
    "    \n",
    "    for i in range(len(ranks)):\n",
    "    \n",
    "        if \"2\" in ranks:\n",
    "            ranks[ranks.index(\"2\")] = 2\n",
    "        \n",
    "        if \"3\" in ranks:\n",
    "            ranks[ranks.index(\"3\")] = 3\n",
    "        \n",
    "        if \"4\" in ranks:\n",
    "            ranks[ranks.index(\"4\")] = 4\n",
    "        \n",
    "        if \"5\" in ranks:\n",
    "            ranks[ranks.index(\"5\")] = 5\n",
    "        \n",
    "        if \"6\" in ranks:\n",
    "            ranks[ranks.index(\"6\")] = 6\n",
    "        \n",
    "        if \"7\" in ranks:\n",
    "            ranks[ranks.index(\"7\")] = 7\n",
    "        \n",
    "        if \"8\" in ranks:\n",
    "            ranks[ranks.index(\"8\")] = 8\n",
    "        \n",
    "        if \"9\" in ranks:\n",
    "            ranks[ranks.index(\"9\")] = 9\n",
    "\n",
    "        if \"T\" in ranks:\n",
    "            ranks[ranks.index(\"T\")] = 10\n",
    "        \n",
    "        if \"J\" in ranks:\n",
    "            ranks[ranks.index(\"J\")] = 11\n",
    "    \n",
    "        if \"Q\" in ranks:\n",
    "            ranks[ranks.index(\"Q\")] = 12\n",
    "    \n",
    "        if \"K\" in ranks:\n",
    "            ranks[ranks.index(\"K\")] = 13\n",
    "    \n",
    "        if \"A\" in ranks:\n",
    "            ranks[ranks.index(\"A\")] = 14\n",
    "\n",
    "    ranks.sort(reverse=True)\n",
    "    return ranks\n",
    "\n",
    "print (card_ranks(['AC', '3D', '4S', 'KH'])) #should output [14, 13, 4, 3]\n",
    "\n",
    "print (card_ranks(['9D', '9H', '9S', '9C', 'QD']))"
   ]
  },
  {
   "cell_type": "markdown",
   "metadata": {},
   "source": [
    "# Instructor\n",
    "# very clever "
   ]
  },
  {
   "cell_type": "code",
   "execution_count": 2,
   "metadata": {},
   "outputs": [
    {
     "name": "stdout",
     "output_type": "stream",
     "text": [
      "[14, 13, 4, 3]\n",
      "[12, 9, 9, 9, 9]\n"
     ]
    }
   ],
   "source": [
    "def card_ranks(cards):\n",
    "    \"Return a list of the ranks, sorted with higher first.\"\n",
    "    \n",
    "    ranks = [\"23456789TJQKA\".index(r)+2 for r,s in cards]\n",
    "   \n",
    "    ranks.sort(reverse=True)\n",
    "    return ranks\n",
    "\n",
    "print (card_ranks(['AC', '3D', '4S', 'KH'])) #should output [14, 13, 4, 3]\n",
    "\n",
    "print (card_ranks(['9D', '9H', '9S', '9C', 'QD']))"
   ]
  }
 ],
 "metadata": {
  "kernelspec": {
   "display_name": "Python 3",
   "language": "python",
   "name": "python3"
  },
  "language_info": {
   "codemirror_mode": {
    "name": "ipython",
    "version": 3
   },
   "file_extension": ".py",
   "mimetype": "text/x-python",
   "name": "python",
   "nbconvert_exporter": "python",
   "pygments_lexer": "ipython3",
   "version": "3.7.3"
  }
 },
 "nbformat": 4,
 "nbformat_minor": 2
}
